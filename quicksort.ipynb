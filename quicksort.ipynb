{
 "cells": [
  {
   "cell_type": "code",
   "execution_count": 1,
   "id": "2691e3a5-6962-4030-b4e5-d52fda6a8e77",
   "metadata": {},
   "outputs": [
    {
     "name": "stdout",
     "output_type": "stream",
     "text": [
      "[684, 347, 693, 699, 89, 951, 144, 936, 809, 974, 710, 712, 28, 230, 556, 488, 726, 364, 544, 78, 130, 302, 16, 859, 455, 172, 439, 562, 602, 82, 106, 821, 185, 746, 354, 565, 66, 546, 755, 179, 683, 376, 325, 654, 57, 31, 924, 643, 907, 437, 557, 841, 17, 141, 636, 873, 878, 641, 770, 12, 585, 723, 418, 661, 72, 246, 708, 919, 169, 937, 571, 345, 658, 532, 805, 368, 335, 525, 54, 342, 91, 402, 754, 647, 231, 477, 848, 596, 725, 49, 404, 553, 263, 590, 849, 680, 558, 150, 171, 200]\n"
     ]
    }
   ],
   "source": [
    "import random\n",
    "n = random.sample(range(0, 1000), 100)\n",
    "print(n)"
   ]
  },
  {
   "cell_type": "code",
   "execution_count": 2,
   "id": "bdb2ec44-28f6-48c7-9ec9-129d20cdaf96",
   "metadata": {},
   "outputs": [],
   "source": [
    "#Quicksort"
   ]
  },
  {
   "cell_type": "code",
   "execution_count": 3,
   "id": "50e2faca-5455-47ad-832a-ab205e25cbc1",
   "metadata": {},
   "outputs": [],
   "source": [
    "def quicksort(L):\n",
    "    if len(L)>1:\n",
    "        aux = random.sample(range(len(L)), 1)[0]\n",
    "        l1=[]\n",
    "        l2=[]\n",
    "        for k in range(len(L)):\n",
    "            if L[k]<L[aux]:\n",
    "                l1=l1+[L[k]]\n",
    "            else:\n",
    "                l2=l2+[L[k]]\n",
    "        return(quicksort(l1)+quicksort(l2))\n",
    "    else:\n",
    "        return(L)"
   ]
  },
  {
   "cell_type": "code",
   "execution_count": 4,
   "id": "ba64117b-b30b-49b1-9f18-527cb1b5f508",
   "metadata": {},
   "outputs": [
    {
     "name": "stdout",
     "output_type": "stream",
     "text": [
      "[12, 16, 17, 28, 31, 49, 54, 57, 66, 72, 78, 82, 89, 91, 106, 130, 141, 144, 150, 169, 171, 172, 179, 185, 200, 230, 231, 246, 263, 302, 325, 335, 342, 345, 347, 354, 364, 368, 376, 402, 404, 418, 437, 439, 455, 477, 488, 525, 532, 544, 546, 553, 556, 557, 558, 562, 565, 571, 585, 590, 596, 602, 636, 641, 643, 647, 654, 658, 661, 680, 683, 684, 693, 699, 708, 710, 712, 723, 725, 726, 746, 754, 755, 770, 805, 809, 821, 841, 848, 849, 859, 873, 878, 907, 919, 924, 936, 937, 951, 974]\n"
     ]
    }
   ],
   "source": [
    "n2=quicksort(n)\n",
    "print(n2)"
   ]
  },
  {
   "cell_type": "code",
   "execution_count": null,
   "id": "d6bf6ae3-8e84-46a9-8139-13b0fd446d07",
   "metadata": {},
   "outputs": [],
   "source": []
  },
  {
   "cell_type": "code",
   "execution_count": null,
   "id": "7c2c4ef2",
   "metadata": {},
   "outputs": [],
   "source": []
  }
 ],
 "metadata": {
  "kernelspec": {
   "display_name": "Python 3 (ipykernel)",
   "language": "python",
   "name": "python3"
  },
  "language_info": {
   "codemirror_mode": {
    "name": "ipython",
    "version": 3
   },
   "file_extension": ".py",
   "mimetype": "text/x-python",
   "name": "python",
   "nbconvert_exporter": "python",
   "pygments_lexer": "ipython3",
   "version": "3.9.7"
  }
 },
 "nbformat": 4,
 "nbformat_minor": 5
}
